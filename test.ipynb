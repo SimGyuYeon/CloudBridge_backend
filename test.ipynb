{
 "cells": [
  {
   "cell_type": "code",
   "execution_count": 15,
   "metadata": {},
   "outputs": [],
   "source": [
    "import warnings\n",
    "\n",
    "warnings.filterwarnings(\"ignore\")\n",
    "import os\n",
    "import glob\n",
    "from datetime import datetime\n",
    "import io\n",
    "import pandas as pd\n",
    "import numpy as np\n",
    "\n",
    "import statsmodels.api as sm\n",
    "import logging\n",
    "\n",
    "# 로그 설정\n",
    "logging.basicConfig(filename='error.log', level=logging.ERROR)\n",
    "\n",
    "from itertools import product\n",
    "from tqdm import tqdm\n",
    "\n",
    "# data_h_df = pd.read_csv('./temp_data.csv', index_col='dt', parse_dates=['dt'])\n",
    "\n",
    "\n",
    "def sarima_learn(data_h_df):\n",
    "    p, q = range(0, 2), range(0, 2)\n",
    "    d = range(0, 1)\n",
    "    P, Q = range(0, 2), range(0, 2)\n",
    "    D = range(0, 1)\n",
    "    m = 24\n",
    "    trend_pdq = list(product(p, d, q))\n",
    "    seasonal_pdq = [\n",
    "        (candi[0], candi[1], candi[2], m) for candi in list(product(P, D, Q))\n",
    "    ]\n",
    "\n",
    "    # all_list = data_h_df.TABLE_INDEX.unique()\n",
    "    # ld_nm_list=all_list[:]\n",
    "    # ld_nm_list=all_list[5:15]\n",
    "\n",
    "    file_list = []\n",
    "\n",
    "    # print('부하명 : ', ld_nm)\n",
    "    ## 최소학습\n",
    "    # train_df = data_h_df['DIS'][len(data_h_df[data_h_df['TABLE_INDEX'] == ld_nm]) - (24*60):len(data_h_df[data_h_df['TABLE_INDEX'] == ld_nm]) - (24*30)]\n",
    "    # test_df = data_h_df['DIS'][len(data_h_df[data_h_df['TABLE_INDEX'] == ld_nm]) - (24*30):]\n",
    "    cut_idx = round(len(data_h_df[\"val\"]) * 0.8)\n",
    "\n",
    "    train_df = data_h_df[\"val\"][:cut_idx]\n",
    "    test_df = data_h_df[\"val\"][cut_idx:]\n",
    "    # print(train_df)\n",
    "\n",
    "    train_df = train_df.asfreq(\"H\", method=\"ffill\")\n",
    "    test_df = test_df.asfreq(\"H\", method=\"ffill\")\n",
    "    Y_train_feR = train_df.copy()\n",
    "    Y_test_feR = test_df.copy()\n",
    "    Y_train_feR = Y_train_feR + 0.00000000000000000001\n",
    "    Y_test_feR = Y_test_feR + 0.00000000000000000001\n",
    "\n",
    "    try:\n",
    "        ##  AUTO SARIMAX (최적파라미터)\n",
    "        AIC = []\n",
    "        print(\"11111111111111\")\n",
    "        SARIMAX_order = []\n",
    "        for trend_param in tqdm(trend_pdq):\n",
    "            for seasonal_params in seasonal_pdq:\n",
    "                try:\n",
    "                    result = sm.tsa.SARIMAX(\n",
    "                        Y_train_feR,\n",
    "                        trend=\"c\",\n",
    "                        order=trend_param,\n",
    "                        seasonal_order=seasonal_params,\n",
    "                    ).fit()\n",
    "                    print(\n",
    "                        \"Fit SARIMAX: trend_order={} seasonal_order={} AIC={}, BIC={}\".format(\n",
    "                            trend_param,\n",
    "                            seasonal_params,\n",
    "                            result.aic,\n",
    "                            result.bic,\n",
    "                            end=\"\\r\",\n",
    "                        )\n",
    "                    )\n",
    "                    AIC.append(result.aic)\n",
    "                    SARIMAX_order.append([trend_param, seasonal_params])\n",
    "                except Exception as e:\n",
    "                    # 모든 예외에 대한 처리\n",
    "                    logging.error(\"예외 발생: %s\", str(e))\n",
    "                    continue\n",
    "        ## Parameter Selection\n",
    "        print(\n",
    "            \"The smallest AIC is {} for model SARIMAX{}x{}\".format(\n",
    "                min(AIC),\n",
    "                SARIMAX_order[AIC.index(min(AIC))][0],\n",
    "                SARIMAX_order[AIC.index(min(AIC))][1],\n",
    "            )\n",
    "        )\n",
    "        print(\"222222222222222\")\n",
    "        fit_ts_sarimax = sm.tsa.SARIMAX(\n",
    "            Y_train_feR,\n",
    "            trend=\"c\",\n",
    "            order=SARIMAX_order[AIC.index(min(AIC))][0],\n",
    "            seasonal_order=SARIMAX_order[AIC.index(min(AIC))][1],\n",
    "        ).fit()\n",
    "\n",
    "        ## Prediction\n",
    "        print(\"33333333333333\")\n",
    "        pred_tr_ts_sarimax = fit_ts_sarimax.predict()\n",
    "        pred_te_ts_sarimax = fit_ts_sarimax.get_forecast(\n",
    "            steps=len(Y_test_feR)\n",
    "        ).predicted_mean\n",
    "        pred_te_ts_sarimax_ci = fit_ts_sarimax.get_forecast(\n",
    "            steps=len(Y_test_feR)\n",
    "        ).conf_int()\n",
    "\n",
    "        def forecast_one_step():\n",
    "            pred = fit_ts_sarimax.get_forecast(1)\n",
    "            return pred.predicted_mean, pred.conf_int()\n",
    "        print(\"4444444444444444\")\n",
    "        result_df = pd.DataFrame()\n",
    "        res = pd.DataFrame()\n",
    "        for values in Y_test_feR.val.values:\n",
    "            pred, ci = forecast_one_step()\n",
    "            result_df = pd.concat([pd.DataFrame({\"predict\": pred}), ci], axis=1)\n",
    "            res = pd.concat([res, result_df])\n",
    "            fit_ts_sarimax = fit_ts_sarimax.extend(np.array([values]))\n",
    "        print(\"5555555555555555\")\n",
    "        val_df = pd.concat([pd.DataFrame(res.predict), Y_test_feR], axis=1)\n",
    "        val_df[\"dif\"] = (val_df.predict - val_df.val).abs()\n",
    "        val_df[\"dif/val\"] = (val_df[\"dif\"] / val_df[\"val\"] * 100).abs()\n",
    "        print(\"666666666666666\")\n",
    "        file_list.append(\n",
    "            [\n",
    "                \"test\",\n",
    "                SARIMAX_order[AIC.index(min(AIC))][0],\n",
    "                SARIMAX_order[AIC.index(min(AIC))][1],\n",
    "                100 - val_df[\"dif/val\"].mean(),\n",
    "            ]\n",
    "        )\n",
    "        fit_ts_sarimax.save(\"./ld_sarima_\" + \".pkl\")\n",
    "        print(\"7777777777777\")\n",
    "        one_list = []\n",
    "        one_list.append(\n",
    "            [\n",
    "                \"test\",\n",
    "                SARIMAX_order[AIC.index(min(AIC))][0],\n",
    "                SARIMAX_order[AIC.index(min(AIC))][1],\n",
    "                100 - val_df[\"dif/val\"].mean(),\n",
    "            ]\n",
    "        )\n",
    "        with open(\"./parameter.csv\", \"a\") as f:\n",
    "            for param in one_list:\n",
    "                print(str(param))\n",
    "                f.writelines(\"%s\\n\" % str(param))\n",
    "        one_list = []\n",
    "\n",
    "    except Exception as e:\n",
    "        # 모든 예외에 대한 처리\n",
    "        logging.error(\"예외 발생: %s\", str(e))\n",
    "        file_list.append([\"test\", \"예외발생\"])\n",
    "\n",
    "\n",
    "# sarima_learn(data_h_df)\n"
   ]
  },
  {
   "cell_type": "code",
   "execution_count": 16,
   "metadata": {},
   "outputs": [
    {
     "name": "stdout",
     "output_type": "stream",
     "text": [
      "11111111111111\n"
     ]
    },
    {
     "name": "stderr",
     "output_type": "stream",
     "text": [
      "  0%|          | 0/4 [00:00<?, ?it/s]"
     ]
    },
    {
     "name": "stdout",
     "output_type": "stream",
     "text": [
      "Fit SARIMAX: trend_order=(0, 0, 0) seasonal_order=(0, 0, 0, 24) AIC=242.26958585702675, BIC=245.54475817647952\n",
      "Fit SARIMAX: trend_order=(0, 0, 0) seasonal_order=(0, 0, 1, 24) AIC=229.80346947874, BIC=234.71622795791916\n",
      "Fit SARIMAX: trend_order=(0, 0, 0) seasonal_order=(1, 0, 0, 24) AIC=218.62543448881746, BIC=223.53819296799662\n"
     ]
    },
    {
     "name": "stderr",
     "output_type": "stream",
     "text": [
      " 25%|██▌       | 1/4 [00:00<00:02,  1.42it/s]"
     ]
    },
    {
     "name": "stdout",
     "output_type": "stream",
     "text": [
      "Fit SARIMAX: trend_order=(0, 0, 0) seasonal_order=(1, 0, 1, 24) AIC=220.62543457377205, BIC=227.17577921267758\n",
      "Fit SARIMAX: trend_order=(0, 0, 1) seasonal_order=(0, 0, 0, 24) AIC=215.6437978032091, BIC=220.55655628238827\n",
      "Fit SARIMAX: trend_order=(0, 0, 1) seasonal_order=(0, 0, 1, 24) AIC=206.3472769874057, BIC=212.89762162631126\n",
      "Fit SARIMAX: trend_order=(0, 0, 1) seasonal_order=(1, 0, 0, 24) AIC=202.41524374036425, BIC=208.96558837926978\n"
     ]
    },
    {
     "name": "stderr",
     "output_type": "stream",
     "text": [
      " 50%|█████     | 2/4 [00:01<00:01,  1.28it/s]"
     ]
    },
    {
     "name": "stdout",
     "output_type": "stream",
     "text": [
      "Fit SARIMAX: trend_order=(0, 0, 1) seasonal_order=(1, 0, 1, 24) AIC=204.415243927091, BIC=212.60317472572294\n",
      "Fit SARIMAX: trend_order=(1, 0, 0) seasonal_order=(0, 0, 0, 24) AIC=190.6120612794692, BIC=195.52481975864836\n",
      "Fit SARIMAX: trend_order=(1, 0, 0) seasonal_order=(0, 0, 1, 24) AIC=186.0247795705439, BIC=192.57512420944943\n",
      "Fit SARIMAX: trend_order=(1, 0, 0) seasonal_order=(1, 0, 0, 24) AIC=185.85837840222595, BIC=192.4087230411315\n"
     ]
    },
    {
     "name": "stderr",
     "output_type": "stream",
     "text": [
      " 75%|███████▌  | 3/4 [00:02<00:00,  1.25it/s]"
     ]
    },
    {
     "name": "stdout",
     "output_type": "stream",
     "text": [
      "Fit SARIMAX: trend_order=(1, 0, 0) seasonal_order=(1, 0, 1, 24) AIC=187.8523005579916, BIC=196.04023135662354\n",
      "Fit SARIMAX: trend_order=(1, 0, 1) seasonal_order=(0, 0, 0, 24) AIC=192.54329085201078, BIC=199.0936354909163\n",
      "Fit SARIMAX: trend_order=(1, 0, 1) seasonal_order=(0, 0, 1, 24) AIC=188.01925524094108, BIC=196.207186039573\n",
      "Fit SARIMAX: trend_order=(1, 0, 1) seasonal_order=(1, 0, 0, 24) AIC=187.8556915987865, BIC=196.04362239741843\n"
     ]
    },
    {
     "name": "stderr",
     "output_type": "stream",
     "text": [
      "100%|██████████| 4/4 [00:03<00:00,  1.13it/s]\n",
      "ERROR:root:예외 발생: 'Series' object has no attribute 'val'\n"
     ]
    },
    {
     "name": "stdout",
     "output_type": "stream",
     "text": [
      "Fit SARIMAX: trend_order=(1, 0, 1) seasonal_order=(1, 0, 1, 24) AIC=189.85270761388276, BIC=199.67822457224108\n",
      "The smallest AIC is 185.85837840222595 for model SARIMAX(1, 0, 0)x(1, 0, 0, 24)\n",
      "222222222222222\n",
      "33333333333333\n",
      "4444444444444444\n"
     ]
    }
   ],
   "source": [
    "import pandas as pd\n",
    "\n",
    "df = pd.read_csv(\"./script/temp_data2.csv\", index_col=\"dt\", parse_dates=[\"dt\"])\n",
    "sarima_learn(df)"
   ]
  },
  {
   "cell_type": "code",
   "execution_count": 11,
   "metadata": {},
   "outputs": [
    {
     "name": "stdout",
     "output_type": "stream",
     "text": [
      "Thread name: MainThread\n",
      "Thread name: IOPub\n",
      "Thread name: Heartbeat\n",
      "Thread name: Control\n",
      "Thread name: IPythonHistorySavingThread\n",
      "Thread name: Thread-4\n"
     ]
    }
   ],
   "source": [
    "import threading\n",
    "\n",
    "def list_threads():\n",
    "    for thread in threading.enumerate():\n",
    "        print(f\"Thread name: {thread.name}\")\n",
    "\n",
    "if __name__ == \"__main__\":\n",
    "    list_threads()"
   ]
  },
  {
   "cell_type": "code",
   "execution_count": 54,
   "metadata": {},
   "outputs": [],
   "source": [
    "import matplotlib.pyplot as plt\n",
    "from datetime import datetime\n",
    "from matplotlib import font_manager, rc\n",
    "import seaborn as sns\n",
    "\n",
    "# 예측값(pred_value)과 실제값(real_value) 예시 데이터\n",
    "dates = [datetime(2023, 9, 12, 8), datetime(2023, 9, 12, 9), datetime(2023, 9, 12, 10), datetime(2023, 9, 12, 11), datetime(2023, 9, 12, 12),  ]\n",
    "pred_value = [10, 15, 12, 18, 20]\n",
    "real_value = [8, 14, 10, 16, 19]\n",
    "\n",
    "def upload_to_today(filename):\n",
    "    today = datetime.now().strftime(\"%Y-%m-%d\")\n",
    "    return f\"media/images/{today}/{filename[:-4]}\"\n",
    "\n",
    "folder_name = upload_to_today('data9.csv')\n",
    "# 디렉토리가 존재하지 않으면 생성\n",
    "if not os.path.exists(folder_name):\n",
    "    os.makedirs(folder_name)"
   ]
  },
  {
   "cell_type": "code",
   "execution_count": 56,
   "metadata": {},
   "outputs": [],
   "source": [
    "# 산점도 그래프\n",
    "def savefig_scatter():\n",
    "    sns.set(style='whitegrid')\n",
    "    plt.figure(figsize=(10, 6))\n",
    "\n",
    "    sns.scatterplot(x=dates, y=pred_value, label='Prediction', color='blue', marker='o')\n",
    "    sns.scatterplot(x=dates, y=real_value, label='Actual', color='red', marker='x')\n",
    "\n",
    "    plt.xlabel('Date')\n",
    "    plt.ylabel('Value')\n",
    "    plt.title('Scatter Plot of Prediction vs. Actual')\n",
    "\n",
    "    plt.legend()\n",
    "    plt.xticks(rotation=45)  # Rotate x-axis labels\n",
    "\n",
    "    plt.savefig(folder_name + '/scatter.png')\n",
    "    plt.close()\n",
    "\n",
    "# 히스토그램 그래프\n",
    "def savefig_histogram():\n",
    "    plt.figure(figsize=(10, 6))\n",
    "\n",
    "    sns.histplot(pred_value, label='Prediction', color='blue', kde=True)\n",
    "    sns.histplot(real_value, label='Actual', color='red', kde=True)\n",
    "\n",
    "    plt.xlabel('Value')\n",
    "    plt.ylabel('Frequency')\n",
    "    plt.title('Histogram of Prediction vs. Actual')\n",
    "\n",
    "    plt.legend()\n",
    "\n",
    "    plt.savefig(folder_name + '/histogram.png')\n",
    "    plt.close()\n",
    "\n",
    "# 박스 플롯 그래프\n",
    "def savefig_boxplot():\n",
    "    plt.figure(figsize=(10, 6))\n",
    "\n",
    "    sns.boxplot(data=[pred_value, real_value], palette=['blue', 'red'])\n",
    "    \n",
    "    plt.ylabel('Value')\n",
    "    plt.title('Box Plot of Prediction vs. Actual')\n",
    "\n",
    "    plt.xticks([0, 1], ['Prediction', 'Actual'])\n",
    "    plt.savefig(folder_name + '/boxplot.png')\n",
    "    plt.close()\n",
    "\n",
    "# 바이올린 플롯 그래프\n",
    "def savefig_violinplot():\n",
    "    plt.figure(figsize=(10, 6))\n",
    "\n",
    "    sns.violinplot(data=[pred_value, real_value], palette=['blue', 'red'])\n",
    "    \n",
    "    plt.ylabel('Value')\n",
    "    plt.title('Violin Plot of Prediction vs. Actual')\n",
    "\n",
    "    plt.xticks([0, 1], ['Prediction', 'Actual'])\n",
    "\n",
    "    plt.savefig(folder_name + '/violinplot.png')\n",
    "    plt.close()\n",
    "\n",
    "# 각 함수를 호출하여 그래프를 생성하고 저장\n",
    "savefig_scatter()\n",
    "savefig_histogram()\n",
    "savefig_boxplot()\n",
    "savefig_violinplot()"
   ]
  },
  {
   "cell_type": "code",
   "execution_count": null,
   "metadata": {},
   "outputs": [],
   "source": []
  },
  {
   "cell_type": "code",
   "execution_count": null,
   "metadata": {},
   "outputs": [],
   "source": []
  }
 ],
 "metadata": {
  "kernelspec": {
   "display_name": "ai",
   "language": "python",
   "name": "python3"
  },
  "language_info": {
   "codemirror_mode": {
    "name": "ipython",
    "version": 3
   },
   "file_extension": ".py",
   "mimetype": "text/x-python",
   "name": "python",
   "nbconvert_exporter": "python",
   "pygments_lexer": "ipython3",
   "version": "3.7.16"
  },
  "orig_nbformat": 4
 },
 "nbformat": 4,
 "nbformat_minor": 2
}
